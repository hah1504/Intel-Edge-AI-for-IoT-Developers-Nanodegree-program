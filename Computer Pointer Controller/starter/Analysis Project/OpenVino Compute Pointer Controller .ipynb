{
 "cells": [
  {
   "cell_type": "markdown",
   "metadata": {},
   "source": [
    "# Computer Pointer Controller - Performance\n",
    "\n",
    "The aim of this Python Notebook is to compare the app performance on different hardwares and with different model precisions.\n",
    "\n",
    "Model precisions tested:\n",
    "- FP32\n",
    "- FP16\n",
    "- INT8\n",
    "\n",
    "Hardwares tested:\n",
    "- CPU (2.3 GHz Intel Core i5)\n",
    "- GPU (Intel(R) UHD Graphics 630)"
   ]
  },
  {
   "cell_type": "code",
   "execution_count": 1,
   "metadata": {},
   "outputs": [],
   "source": [
    "import pandas as pd\n",
    "import seaborn as sns\n",
    "import matplotlib.pyplot as plt"
   ]
  },
  {
   "cell_type": "markdown",
   "metadata": {},
   "source": [
    "### Benchmark results of the model. CPU"
   ]
  },
  {
   "cell_type": "code",
   "execution_count": 2,
   "metadata": {},
   "outputs": [],
   "source": [
    "CPU_FP16 = pd.read_csv(\"C:/UdaciteProject/starter/outcomes_CPU/FP16/stats.txt\", names =['FP16'])\n",
    "CPU_FP32 = pd.read_csv(\"C:/UdaciteProject/starter/outcomes_CPU/FP32/stats.txt\", names =['FP32'])\n",
    "CPU_FP32_INT8 = pd.read_csv(\"C:/UdaciteProject/starter/outcomes_CPU/INT8/stats.txt\", names =['FP32INT8'])"
   ]
  },
  {
   "cell_type": "code",
   "execution_count": 3,
   "metadata": {},
   "outputs": [],
   "source": [
    "CPU_FP16.rename(index={0:'inference_time',1:'model_load_time',2:'Fps',3:'total_time' }, inplace=True)\n",
    "CPU_FP32.rename(index={0:'inference_time',1:'model_load_time',2:'Fps',3:'total_time'}, inplace=True)\n",
    "CPU_FP32_INT8.rename(index={0:'inference_time',1:'model_load_time',2:'Fps',3:'total_time'}, inplace=True)"
   ]
  },
  {
   "cell_type": "code",
   "execution_count": 4,
   "metadata": {},
   "outputs": [
    {
     "data": {
      "text/plain": [
       "(                      FP16\n",
       " inference_time   31.800000\n",
       " model_load_time   1.165073\n",
       " Fps               1.855346\n",
       " total_time       31.845105,\n",
       "                       FP32\n",
       " inference_time   31.600000\n",
       " model_load_time   0.930308\n",
       " Fps               1.867089\n",
       " total_time       31.645942,\n",
       "                   FP32INT8\n",
       " inference_time   32.000000\n",
       " model_load_time   2.662999\n",
       " Fps               1.843750\n",
       " total_time       32.022906)"
      ]
     },
     "execution_count": 4,
     "metadata": {},
     "output_type": "execute_result"
    }
   ],
   "source": [
    "CPU_FP16,CPU_FP32,CPU_FP32_INT8"
   ]
  },
  {
   "cell_type": "code",
   "execution_count": 5,
   "metadata": {},
   "outputs": [],
   "source": [
    "result = pd.concat([CPU_FP16, CPU_FP32,CPU_FP32_INT8], axis=1, join='inner')"
   ]
  },
  {
   "cell_type": "code",
   "execution_count": 6,
   "metadata": {},
   "outputs": [
    {
     "data": {
      "text/html": [
       "<div>\n",
       "<style scoped>\n",
       "    .dataframe tbody tr th:only-of-type {\n",
       "        vertical-align: middle;\n",
       "    }\n",
       "\n",
       "    .dataframe tbody tr th {\n",
       "        vertical-align: top;\n",
       "    }\n",
       "\n",
       "    .dataframe thead th {\n",
       "        text-align: right;\n",
       "    }\n",
       "</style>\n",
       "<table border=\"1\" class=\"dataframe\">\n",
       "  <thead>\n",
       "    <tr style=\"text-align: right;\">\n",
       "      <th></th>\n",
       "      <th>FP16</th>\n",
       "      <th>FP32</th>\n",
       "      <th>FP32INT8</th>\n",
       "    </tr>\n",
       "  </thead>\n",
       "  <tbody>\n",
       "    <tr>\n",
       "      <th>inference_time</th>\n",
       "      <td>31.800000</td>\n",
       "      <td>31.600000</td>\n",
       "      <td>32.000000</td>\n",
       "    </tr>\n",
       "    <tr>\n",
       "      <th>model_load_time</th>\n",
       "      <td>1.165073</td>\n",
       "      <td>0.930308</td>\n",
       "      <td>2.662999</td>\n",
       "    </tr>\n",
       "    <tr>\n",
       "      <th>Fps</th>\n",
       "      <td>1.855346</td>\n",
       "      <td>1.867089</td>\n",
       "      <td>1.843750</td>\n",
       "    </tr>\n",
       "    <tr>\n",
       "      <th>total_time</th>\n",
       "      <td>31.845105</td>\n",
       "      <td>31.645942</td>\n",
       "      <td>32.022906</td>\n",
       "    </tr>\n",
       "  </tbody>\n",
       "</table>\n",
       "</div>"
      ],
      "text/plain": [
       "                      FP16       FP32   FP32INT8\n",
       "inference_time   31.800000  31.600000  32.000000\n",
       "model_load_time   1.165073   0.930308   2.662999\n",
       "Fps               1.855346   1.867089   1.843750\n",
       "total_time       31.845105  31.645942  32.022906"
      ]
     },
     "execution_count": 6,
     "metadata": {},
     "output_type": "execute_result"
    }
   ],
   "source": [
    "result"
   ]
  },
  {
   "cell_type": "code",
   "execution_count": 7,
   "metadata": {},
   "outputs": [
    {
     "data": {
      "text/html": [
       "<div>\n",
       "<style scoped>\n",
       "    .dataframe tbody tr th:only-of-type {\n",
       "        vertical-align: middle;\n",
       "    }\n",
       "\n",
       "    .dataframe tbody tr th {\n",
       "        vertical-align: top;\n",
       "    }\n",
       "\n",
       "    .dataframe thead th {\n",
       "        text-align: right;\n",
       "    }\n",
       "</style>\n",
       "<table border=\"1\" class=\"dataframe\">\n",
       "  <thead>\n",
       "    <tr style=\"text-align: right;\">\n",
       "      <th></th>\n",
       "      <th>inference_time</th>\n",
       "      <th>model_load_time</th>\n",
       "      <th>Fps</th>\n",
       "      <th>total_time</th>\n",
       "    </tr>\n",
       "  </thead>\n",
       "  <tbody>\n",
       "    <tr>\n",
       "      <th>FP16</th>\n",
       "      <td>31.8</td>\n",
       "      <td>1.165073</td>\n",
       "      <td>1.855346</td>\n",
       "      <td>31.845105</td>\n",
       "    </tr>\n",
       "    <tr>\n",
       "      <th>FP32</th>\n",
       "      <td>31.6</td>\n",
       "      <td>0.930308</td>\n",
       "      <td>1.867089</td>\n",
       "      <td>31.645942</td>\n",
       "    </tr>\n",
       "    <tr>\n",
       "      <th>FP32INT8</th>\n",
       "      <td>32.0</td>\n",
       "      <td>2.662999</td>\n",
       "      <td>1.843750</td>\n",
       "      <td>32.022906</td>\n",
       "    </tr>\n",
       "  </tbody>\n",
       "</table>\n",
       "</div>"
      ],
      "text/plain": [
       "          inference_time  model_load_time       Fps  total_time\n",
       "FP16                31.8         1.165073  1.855346   31.845105\n",
       "FP32                31.6         0.930308  1.867089   31.645942\n",
       "FP32INT8            32.0         2.662999  1.843750   32.022906"
      ]
     },
     "execution_count": 7,
     "metadata": {},
     "output_type": "execute_result"
    }
   ],
   "source": [
    "result_transposed = result.T # or df1.transpose()\n",
    "result_transposed"
   ]
  },
  {
   "cell_type": "code",
   "execution_count": 8,
   "metadata": {},
   "outputs": [
    {
     "data": {
      "image/png": "[encoded data removed]",
      "text/plain": [
       "<Figure size 432x288 with 1 Axes>"
      ]
     },
     "metadata": {
      "needs_background": "light"
     },
     "output_type": "display_data"
    }
   ],
   "source": [
    "result_transposed.plot.bar();"
   ]
  },
  {
   "cell_type": "code",
   "execution_count": 9,
   "metadata": {},
   "outputs": [],
   "source": [
    "precision_list = ['FP16', 'FP32', 'FP32-INT8']"
   ]
  },
  {
   "cell_type": "code",
   "execution_count": 10,
   "metadata": {},
   "outputs": [
    {
     "data": {
      "image/png": "[encoded data removed]",
      "text/plain": [
       "<Figure size 432x288 with 1 Axes>"
      ]
     },
     "metadata": {
      "needs_background": "light"
     },
     "output_type": "display_data"
    }
   ],
   "source": [
    "plt.bar([1, 2, 3], result_transposed['inference_time'],tick_label=precision_list)\n",
    "plt.xlabel('Model Precision Value CPU')\n",
    "plt.ylabel('Inference Time in seconds CPU ')\n",
    "plt.title('Asynchronous Inference CPU')\n",
    "plt.show()"
   ]
  },
  {
   "cell_type": "code",
   "execution_count": 11,
   "metadata": {},
   "outputs": [
    {
     "data": {
      "image/png": "[encoded data removed]",
      "text/plain": [
       "<Figure size 432x288 with 1 Axes>"
      ]
     },
     "metadata": {
      "needs_background": "light"
     },
     "output_type": "display_data"
    }
   ],
   "source": [
    "plt.bar([1, 2, 3], result_transposed['model_load_time'],tick_label=precision_list)\n",
    "plt.xlabel('Model Precision Value CPU')\n",
    "plt.ylabel('Frames per Second CPU')\n",
    "plt.title('Asynchronous Inference CPU')\n",
    "plt.show()"
   ]
  },
  {
   "cell_type": "code",
   "execution_count": 12,
   "metadata": {},
   "outputs": [
    {
     "data": {
      "image/png": "[encoded data removed]",
      "text/plain": [
       "<Figure size 432x288 with 1 Axes>"
      ]
     },
     "metadata": {
      "needs_background": "light"
     },
     "output_type": "display_data"
    }
   ],
   "source": [
    "plt.bar([1, 2, 3], result_transposed['Fps'],tick_label=precision_list)\n",
    "plt.xlabel('Model Precision Value CPU')\n",
    "plt.ylabel('Frames per Second CPU')\n",
    "plt.title('Asynchronous Inference CPU')\n",
    "plt.show()"
   ]
  },
  {
   "cell_type": "markdown",
   "metadata": {},
   "source": [
    "### Benchmark results of the model. GPU"
   ]
  },
  {
   "cell_type": "code",
   "execution_count": 13,
   "metadata": {},
   "outputs": [],
   "source": [
    "GPU_FP16 = pd.read_csv(\"C:/UdaciteProject/starter/outcomes_GPU/FP16/stats.txt\", names =['FP16'])\n",
    "GPU_FP32 = pd.read_csv(\"C:/UdaciteProject/starter/outcomes_GPU/FP32/stats.txt\", names =['FP32'])\n",
    "GPU_FP32_INT8 = pd.read_csv(\"C:/UdaciteProject/starter/outcomes_GPU/INT8/stats.txt\", names =['FP32INT8'])"
   ]
  },
  {
   "cell_type": "code",
   "execution_count": 14,
   "metadata": {},
   "outputs": [],
   "source": [
    "GPU_FP16.rename(index={0:'inference_time',1:'model_load_time',2:'Fps',3:'total_time' }, inplace=True)\n",
    "GPU_FP32.rename(index={0:'inference_time',1:'model_load_time',2:'Fps',3:'total_time'}, inplace=True)\n",
    "GPU_FP32_INT8.rename(index={0:'inference_time',1:'model_load_time',2:'Fps',3:'total_time'}, inplace=True)"
   ]
  },
  {
   "cell_type": "code",
   "execution_count": 15,
   "metadata": {},
   "outputs": [
    {
     "data": {
      "text/plain": [
       "(                      FP16\n",
       " inference_time   32.600000\n",
       " model_load_time  34.921903\n",
       " Fps               1.809816\n",
       " total_time       32.572538,\n",
       "                       FP32\n",
       " inference_time   32.800000\n",
       " model_load_time  33.834617\n",
       " Fps               1.798780\n",
       " total_time       32.822181,\n",
       "                   FP32INT8\n",
       " inference_time   34.100000\n",
       " model_load_time  47.700375\n",
       " Fps               1.730205\n",
       " total_time       34.146677)"
      ]
     },
     "execution_count": 15,
     "metadata": {},
     "output_type": "execute_result"
    }
   ],
   "source": [
    "GPU_FP16,GPU_FP32,GPU_FP32_INT8"
   ]
  },
  {
   "cell_type": "code",
   "execution_count": 16,
   "metadata": {},
   "outputs": [],
   "source": [
    "result = pd.concat([GPU_FP16, GPU_FP32,GPU_FP32_INT8], axis=1, join='inner')"
   ]
  },
  {
   "cell_type": "code",
   "execution_count": 17,
   "metadata": {},
   "outputs": [
    {
     "data": {
      "text/html": [
       "<div>\n",
       "<style scoped>\n",
       "    .dataframe tbody tr th:only-of-type {\n",
       "        vertical-align: middle;\n",
       "    }\n",
       "\n",
       "    .dataframe tbody tr th {\n",
       "        vertical-align: top;\n",
       "    }\n",
       "\n",
       "    .dataframe thead th {\n",
       "        text-align: right;\n",
       "    }\n",
       "</style>\n",
       "<table border=\"1\" class=\"dataframe\">\n",
       "  <thead>\n",
       "    <tr style=\"text-align: right;\">\n",
       "      <th></th>\n",
       "      <th>FP16</th>\n",
       "      <th>FP32</th>\n",
       "      <th>FP32INT8</th>\n",
       "    </tr>\n",
       "  </thead>\n",
       "  <tbody>\n",
       "    <tr>\n",
       "      <th>inference_time</th>\n",
       "      <td>32.600000</td>\n",
       "      <td>32.800000</td>\n",
       "      <td>34.100000</td>\n",
       "    </tr>\n",
       "    <tr>\n",
       "      <th>model_load_time</th>\n",
       "      <td>34.921903</td>\n",
       "      <td>33.834617</td>\n",
       "      <td>47.700375</td>\n",
       "    </tr>\n",
       "    <tr>\n",
       "      <th>Fps</th>\n",
       "      <td>1.809816</td>\n",
       "      <td>1.798780</td>\n",
       "      <td>1.730205</td>\n",
       "    </tr>\n",
       "    <tr>\n",
       "      <th>total_time</th>\n",
       "      <td>32.572538</td>\n",
       "      <td>32.822181</td>\n",
       "      <td>34.146677</td>\n",
       "    </tr>\n",
       "  </tbody>\n",
       "</table>\n",
       "</div>"
      ],
      "text/plain": [
       "                      FP16       FP32   FP32INT8\n",
       "inference_time   32.600000  32.800000  34.100000\n",
       "model_load_time  34.921903  33.834617  47.700375\n",
       "Fps               1.809816   1.798780   1.730205\n",
       "total_time       32.572538  32.822181  34.146677"
      ]
     },
     "execution_count": 17,
     "metadata": {},
     "output_type": "execute_result"
    }
   ],
   "source": [
    "result"
   ]
  },
  {
   "cell_type": "code",
   "execution_count": 18,
   "metadata": {},
   "outputs": [
    {
     "data": {
      "text/html": [
       "<div>\n",
       "<style scoped>\n",
       "    .dataframe tbody tr th:only-of-type {\n",
       "        vertical-align: middle;\n",
       "    }\n",
       "\n",
       "    .dataframe tbody tr th {\n",
       "        vertical-align: top;\n",
       "    }\n",
       "\n",
       "    .dataframe thead th {\n",
       "        text-align: right;\n",
       "    }\n",
       "</style>\n",
       "<table border=\"1\" class=\"dataframe\">\n",
       "  <thead>\n",
       "    <tr style=\"text-align: right;\">\n",
       "      <th></th>\n",
       "      <th>inference_time</th>\n",
       "      <th>model_load_time</th>\n",
       "      <th>Fps</th>\n",
       "      <th>total_time</th>\n",
       "    </tr>\n",
       "  </thead>\n",
       "  <tbody>\n",
       "    <tr>\n",
       "      <th>FP16</th>\n",
       "      <td>32.6</td>\n",
       "      <td>34.921903</td>\n",
       "      <td>1.809816</td>\n",
       "      <td>32.572538</td>\n",
       "    </tr>\n",
       "    <tr>\n",
       "      <th>FP32</th>\n",
       "      <td>32.8</td>\n",
       "      <td>33.834617</td>\n",
       "      <td>1.798780</td>\n",
       "      <td>32.822181</td>\n",
       "    </tr>\n",
       "    <tr>\n",
       "      <th>FP32INT8</th>\n",
       "      <td>34.1</td>\n",
       "      <td>47.700375</td>\n",
       "      <td>1.730205</td>\n",
       "      <td>34.146677</td>\n",
       "    </tr>\n",
       "  </tbody>\n",
       "</table>\n",
       "</div>"
      ],
      "text/plain": [
       "          inference_time  model_load_time       Fps  total_time\n",
       "FP16                32.6        34.921903  1.809816   32.572538\n",
       "FP32                32.8        33.834617  1.798780   32.822181\n",
       "FP32INT8            34.1        47.700375  1.730205   34.146677"
      ]
     },
     "execution_count": 18,
     "metadata": {},
     "output_type": "execute_result"
    }
   ],
   "source": [
    "result_transposed = result.T # or df1.transpose()\n",
    "result_transposed"
   ]
  },
  {
   "cell_type": "code",
   "execution_count": 19,
   "metadata": {},
   "outputs": [
    {
     "data": {
      "image/png": "[encoded data removed]",
      "text/plain": [
       "<Figure size 432x288 with 1 Axes>"
      ]
     },
     "metadata": {
      "needs_background": "light"
     },
     "output_type": "display_data"
    }
   ],
   "source": [
    "result_transposed.plot.bar();"
   ]
  },
  {
   "cell_type": "code",
   "execution_count": 20,
   "metadata": {},
   "outputs": [],
   "source": [
    "precision_list = ['FP16', 'FP32', 'FP32-INT8']"
   ]
  },
  {
   "cell_type": "code",
   "execution_count": 21,
   "metadata": {},
   "outputs": [
    {
     "data": {
      "image/png": "[encoded data removed]",
      "text/plain": [
       "<Figure size 432x288 with 1 Axes>"
      ]
     },
     "metadata": {
      "needs_background": "light"
     },
     "output_type": "display_data"
    }
   ],
   "source": [
    "plt.bar([1, 2, 3], result_transposed['inference_time'],tick_label=precision_list)\n",
    "plt.xlabel('Model Precision Value GPU')\n",
    "plt.ylabel('Inference Time in seconds GPU ')\n",
    "plt.title('Asynchronous Inference GPU')\n",
    "plt.show()"
   ]
  },
  {
   "cell_type": "code",
   "execution_count": 22,
   "metadata": {},
   "outputs": [
    {
     "data": {
      "image/png": "[encoded data removed]",
      "text/plain": [
       "<Figure size 432x288 with 1 Axes>"
      ]
     },
     "metadata": {
      "needs_background": "light"
     },
     "output_type": "display_data"
    }
   ],
   "source": [
    "plt.bar([1, 2, 3], result_transposed['Fps'],tick_label=precision_list)\n",
    "plt.xlabel('Model Precision Value GPU')\n",
    "plt.ylabel('Frames per Second GPU')\n",
    "plt.title('Asynchronous Inference GPU')\n",
    "plt.show()"
   ]
  },
  {
   "cell_type": "code",
   "execution_count": 23,
   "metadata": {},
   "outputs": [
    {
     "data": {
      "image/png": "[encoded data removed]",
      "text/plain": [
       "<Figure size 432x288 with 1 Axes>"
      ]
     },
     "metadata": {
      "needs_background": "light"
     },
     "output_type": "display_data"
    }
   ],
   "source": [
    "plt.bar([1, 2, 3], result_transposed['model_load_time'],tick_label=precision_list)\n",
    "plt.xlabel('Model Precision Value GPU')\n",
    "plt.ylabel('Frames per Second GPU')\n",
    "plt.title('Asynchronous Inference GPU')\n",
    "plt.show()"
   ]
  },
  {
   "cell_type": "code",
   "execution_count": null,
   "metadata": {},
   "outputs": [],
   "source": []
  },
  {
   "cell_type": "code",
   "execution_count": null,
   "metadata": {},
   "outputs": [],
   "source": []
  }
 ],
 "metadata": {
  "kernelspec": {
   "display_name": "Python 3",
   "language": "python",
   "name": "python3"
  },
  "language_info": {
   "codemirror_mode": {
    "name": "ipython",
    "version": 3
   },
   "file_extension": ".py",
   "mimetype": "text/x-python",
   "name": "python",
   "nbconvert_exporter": "python",
   "pygments_lexer": "ipython3",
   "version": "3.7.6"
  }
 },
 "nbformat": 4,
 "nbformat_minor": 4
}
